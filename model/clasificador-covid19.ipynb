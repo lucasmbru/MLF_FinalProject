{
 "cells": [
  {
   "cell_type": "markdown",
   "metadata": {},
   "source": [
    "# Proyecto Final Fundamentos de Aprendizaje Automático."
   ]
  },
  {
   "cell_type": "markdown",
   "metadata": {},
   "source": [
    "## 1- Introducción"
   ]
  },
  {
   "cell_type": "markdown",
   "metadata": {},
   "source": [
    "### 1.a- Presentación del problema:\n",
    "\n",
    "En este Jupyter Notebook, se aborda la resolución de un problema de clasificación de imágenes enfocado en la detección del virus COVID-19. El COVID-19 es un virus que ha mantenido al mundo en alerta durante un período prolongado debido a su alta capacidad de contagio y la gravedad de sus consecuencias. La detección de la presencia del virus en el organismo humano no ha sido una tarea sencilla, ya que los métodos tradicionales, como los test de antígenos, generan una gran cantidad de residuos y su fiabilidad no siempre es la más alta.\n",
    "\n",
    "Una de las complicaciones más serias asociadas al COVID-19 es que algunas personas desarrollan neumonía como consecuencia de la infección. La detección temprana y precisa de esta neumonía es crucial para el tratamiento adecuado de los pacientes. En este contexto, el uso de imágenes de rayos X de tórax se ha convertido en una herramienta valiosa para el diagnóstico.\n",
    "\n",
    "El objetivo de este proyecto es clasificar imágenes de rayos X de tórax para detectar la presencia de neumonía y, específicamente, determinar si es causada por COVID-19. Utilizaremos un conjunto de datos de código abierto compuesto por imágenes etiquetadas en tres categorías:\n",
    "\n",
    "1. COVID-19: El paciente de la imagen presenta neumonía debido a la infección por COVID-19.\n",
    "2. Normal: El paciente de la imagen no presenta neumonía.\n",
    "3. Neumonía: El paciente presenta neumonía, pero no es causada por COVID-19.\n",
    "\n",
    "Para lograr esta clasificación, se aplicarán técnicas avanzadas de aprendizaje automático y visión por computadora, aprovechando la disponibilidad de datos abiertos y la capacidad de procesamiento de dichas imágenes. Con este enfoque es posible mejorar la detección del COVID-19 y que también podría reducir la dependencia de métodos de prueba más invasivos, optimizando así los recursos sanitarios y mejorando los tiempos de respuesta en el diagnóstico."
   ]
  },
  {
   "cell_type": "markdown",
   "metadata": {},
   "source": [
    "### 1.b- Obtención de los datos:\n",
    "\n",
    "Los datos han sido obtenidos de repositorios de datos destinados para trabajos de investigación y académicos. Se dejan disponibles los hipervínculos a las direcciones webs de donde fueron extraídos:\n",
    "\n",
    "1. [Kaggle-Data-1]\n",
    "2. [Mendeley-Data]\n",
    "3. [Kaggle-Data-2]\n",
    "\n",
    "[Kaggle-Data-1]: https://www.kaggle.com/datasets/pranavraikokte/covid19-image-dataset\n",
    "[Mendeley-Data]: https://data.mendeley.com/datasets/dvntn9yhd2/1\n",
    "[Kaggle-Data-2]: https://www.kaggle.com/datasets/prashant268/chest-xray-covid19-pneumonia\n"
   ]
  },
  {
   "cell_type": "code",
   "execution_count": null,
   "metadata": {},
   "outputs": [],
   "source": []
  }
 ],
 "metadata": {
  "language_info": {
   "name": "python"
  }
 },
 "nbformat": 4,
 "nbformat_minor": 2
}
